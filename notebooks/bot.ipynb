{
 "cells": [
  {
   "cell_type": "markdown",
   "id": "2b83a8db-2d1a-43e8-bdbe-8fbed4ee1f84",
   "metadata": {},
   "source": [
    "## Read bot_predict csv and insert into iceberg table"
   ]
  },
  {
   "cell_type": "code",
   "execution_count": null,
   "id": "0182190d-0cdf-4b43-b87d-40fa1bf6b64c",
   "metadata": {},
   "outputs": [],
   "source": [
    "spark.stop()"
   ]
  },
  {
   "cell_type": "code",
   "execution_count": null,
   "id": "8070c91e-24bc-465b-aa8b-e93cc7c25c54",
   "metadata": {},
   "outputs": [],
   "source": [
    "spark = SparkSession.builder \\\n",
    "    .appName(\"CSV to Iceberg\") \\\n",
    "    .getOrCreate()"
   ]
  },
  {
   "cell_type": "code",
   "execution_count": 1,
   "id": "80a2f677-162c-42c0-ae64-1ddb6489a1d4",
   "metadata": {},
   "outputs": [],
   "source": [
    "predict_df = spark.read \\\n",
    "    .format(\"csv\") \\\n",
    "    .option(\"inferSchema\", \"true\") \\\n",
    "    .option(\"header\", \"true\") \\\n",
    "    .option(\"delimiter\", \"|\") \\\n",
    "    .option(\"escape\", \"\\\"\") \\\n",
    "    .option(\"multiline\", \"true\") \\\n",
    "    .load(\"data/bot_ddvc_hcm_bot_predict.csv\")"
   ]
  },
  {
   "cell_type": "code",
   "execution_count": 2,
   "id": "20714797-fe4e-4ac7-a565-131c62b8db01",
   "metadata": {
    "scrolled": true
   },
   "outputs": [
    {
     "name": "stdout",
     "output_type": "stream",
     "text": [
      "root\n",
      " |-- ID: string (nullable = true)\n",
      " |-- BOT_ID: string (nullable = true)\n",
      " |-- TEXT: string (nullable = true)\n",
      " |-- INTENT_CONFIDENCE: double (nullable = true)\n",
      " |-- INTENT_NAME: string (nullable = true)\n",
      " |-- STEP: integer (nullable = true)\n",
      " |-- NLU_THRESHOLD: double (nullable = true)\n",
      " |-- SENDER_ID: string (nullable = true)\n",
      " |-- SOURCE: string (nullable = true)\n",
      " |-- CREATED_TIME: string (nullable = true)\n",
      " |-- LAST_UPDATED_TIME: string (nullable = true)\n",
      " |-- ID_CHATLOG: string (nullable = true)\n",
      " |-- UPDATED_INTENT: string (nullable = true)\n",
      " |-- LEN_CARD_DATA: integer (nullable = true)\n",
      " |-- STATUS_DELETE: string (nullable = true)\n",
      " |-- STATUS_CONFIRM: string (nullable = true)\n",
      " |-- INTENT_MAP_CLICK_BUTTON: string (nullable = true)\n",
      "\n"
     ]
    }
   ],
   "source": [
    "predict_df.printSchema()"
   ]
  },
  {
   "cell_type": "code",
   "execution_count": 3,
   "id": "a4dbb372-1031-4de8-ac19-0d79bc71c733",
   "metadata": {},
   "outputs": [
    {
     "name": "stdout",
     "output_type": "stream",
     "text": [
      "10729\n"
     ]
    }
   ],
   "source": [
    "print(predict_df.count())"
   ]
  },
  {
   "cell_type": "code",
   "execution_count": null,
   "id": "7d68db67-a676-40db-9193-6cc42e751e1b",
   "metadata": {},
   "outputs": [],
   "source": [
    "import pyspark.sql.functions as f\n",
    "\n",
    "fixed_predict_df = predict_df.withColumn(\"CREATED_TIME\", f.to_timestamp(\"CREATED_TIME\", \"dd-MMM-yy hh.mm.ss.SSSSSSSSS a\")) \\\n",
    "                            .withColumn(\"LAST_UPDATED_TIME\", f.to_timestamp(\"LAST_UPDATED_TIME\", \"dd-MMM-yy hh.mm.ss.SSSSSSSSS a\"))"
   ]
  },
  {
   "cell_type": "code",
   "execution_count": null,
   "id": "6f826f4f-b377-46df-992e-4e99cbfa106a",
   "metadata": {},
   "outputs": [],
   "source": [
    "fixed_predict_df.select(\"ID\", \"BOT_ID\", \"TEXT\", \"CREATED_TIME\", \"LAST_UPDATED_TIME\").show(10, truncate=True)"
   ]
  },
  {
   "cell_type": "code",
   "execution_count": null,
   "id": "d37e20fd-304c-4733-94e7-9b808ce2ac65",
   "metadata": {},
   "outputs": [],
   "source": [
    "table_name = \"bot_db.bot_ddvc_hcm_bot_predict\""
   ]
  },
  {
   "cell_type": "code",
   "execution_count": null,
   "id": "48468d01-ee20-49a7-be99-9a715e1f3a7c",
   "metadata": {},
   "outputs": [],
   "source": [
    "%%sql\n",
    "CREATE DATABASE IF NOT EXISTS bot_db;"
   ]
  },
  {
   "cell_type": "code",
   "execution_count": null,
   "id": "a8e76208-1379-469b-9ff2-7c10a4522095",
   "metadata": {},
   "outputs": [],
   "source": [
    "%%sql\n",
    "CREATE TABLE IF NOT EXISTS bot_db.bot_ddvc_hcm_bot_predict (\n",
    "    `ID` STRING,\n",
    "    `BOT_ID` STRING,\n",
    "    `TEXT` STRING,\n",
    "    `INTENT_CONFIDENCE` STRING,\n",
    "    `INTENT_NAME` STRING,\n",
    "    `STEP` INT,\n",
    "    `NLU_THRESHOLD` STRING,\n",
    "    `SENDER_ID` STRING,\n",
    "    `SOURCE` STRING,\n",
    "    `CREATED_TIME` TIMESTAMP,\n",
    "    `LAST_UPDATED_TIME` TIMESTAMP,\n",
    "    `ID_CHATLOG` STRING,\n",
    "    `UPDATED_INTENT` STRING,\n",
    "    `LEN_CARD_DATA` INT,\n",
    "    `STATUS_DELETE` STRING,\n",
    "    `STATUS_CONFIRM` STRING,\n",
    "    `INTENT_MAP_CLICK_BUTTON` STRING\n",
    ") USING iceberg\n",
    "PARTITIONED BY (days(`CREATED_TIME`));\n"
   ]
  },
  {
   "cell_type": "code",
   "execution_count": null,
   "id": "f3ab6d1d-a5a7-4a2c-9b81-4afae4051fbb",
   "metadata": {},
   "outputs": [],
   "source": [
    "table_name = \"bot_db.bot_ddvc_hcm_bot_predict\"\n",
    "fixed_predict_df.writeTo(table_name).append()"
   ]
  },
  {
   "cell_type": "code",
   "execution_count": null,
   "id": "ac0f3896-58f0-4a1a-8a01-93e8380a6d40",
   "metadata": {
    "scrolled": true
   },
   "outputs": [],
   "source": [
    "%%sql\n",
    "select * from bot_db.bot_ddvc_hcm_bot_predict"
   ]
  },
  {
   "cell_type": "markdown",
   "id": "c9acaef8-774e-4534-9f49-ee05d59f185e",
   "metadata": {},
   "source": [
    "## Read bot_hcm csv and insert into iceberg table"
   ]
  },
  {
   "cell_type": "code",
   "execution_count": null,
   "id": "5e08584d-b492-4d9b-a6c5-fd5828a6f4e1",
   "metadata": {},
   "outputs": [],
   "source": [
    "bot_hcm_df = spark.read \\\n",
    "    .format(\"csv\") \\\n",
    "    .option(\"inferSchema\", \"true\") \\\n",
    "    .option(\"header\", \"true\") \\\n",
    "    .option(\"delimiter\", \"|\") \\\n",
    "    .option(\"escape\", \"\\\"\") \\\n",
    "    .option(\"multiline\", \"true\") \\\n",
    "    .load(\"data/bot_dvc_hcm.csv\")"
   ]
  },
  {
   "cell_type": "code",
   "execution_count": null,
   "id": "800ba148-793b-4a68-8d6c-2575b75448ad",
   "metadata": {},
   "outputs": [],
   "source": [
    "fixed_bot_hcm_df = bot_hcm_df.withColumn(\"CREATED_TIME\", f.to_timestamp(\"CREATED_TIME\", \"dd-MMM-yy hh.mm.ss.SSSSSSSSS a\")) "
   ]
  },
  {
   "cell_type": "code",
   "execution_count": null,
   "id": "18fa05f7-39ab-44e7-a00c-4511816d0b51",
   "metadata": {},
   "outputs": [],
   "source": [
    "fixed_bot_hcm_df.printSchema()"
   ]
  },
  {
   "cell_type": "code",
   "execution_count": null,
   "id": "aeba4fd8-3542-4be3-b913-701ed12bc3f4",
   "metadata": {},
   "outputs": [],
   "source": [
    "fixed_bot_hcm_df.where(\"id = '86d87a80-c031-4836-95f8-50f78cffc952'\").select(\"*\").show(1, truncate=False)\n"
   ]
  },
  {
   "cell_type": "code",
   "execution_count": null,
   "id": "038ef620-38a4-4e53-9e4b-28ac9da5bf1e",
   "metadata": {},
   "outputs": [],
   "source": [
    "%%sql\n",
    "\n",
    "CREATE TABLE IF NOT EXISTS bot_db.bot_dvc_hcm (\n",
    "    `ID` STRING,\n",
    "    `BOT_ID` STRING,\n",
    "    `SENDER_ID` STRING,\n",
    "    `MESSAGE` STRING,\n",
    "    `INPUT_CHANNEL` STRING,\n",
    "    `CREATED_TIME` TIMESTAMP,\n",
    "    `ADD_INFO` STRING,\n",
    "    `SOURCE` STRING,\n",
    "    `TEXT` STRING,\n",
    "    `META_DATA` STRING,\n",
    "    `SESSION_ID` STRING,\n",
    "    `LOGSTT_ID` STRING,\n",
    "    `AUDIO_URL` STRING,\n",
    "    `MSG_RATED` STRING,\n",
    "    `PAGE_ID` STRING\n",
    ") USING iceberg\n",
    "PARTITIONED BY (days(`CREATED_TIME`));\n"
   ]
  },
  {
   "cell_type": "code",
   "execution_count": null,
   "id": "af917602-5860-47de-b065-ec9a50d2e6e0",
   "metadata": {},
   "outputs": [],
   "source": [
    "table_name = \"bot_db.bot_dvc_hcm\"\n",
    "fixed_bot_hcm_df.writeTo(table_name).append()"
   ]
  },
  {
   "cell_type": "code",
   "execution_count": null,
   "id": "75cc2400-1020-45b0-bb97-b97456e677de",
   "metadata": {},
   "outputs": [],
   "source": [
    "%%sql\n",
    "select message from bot_db.bot_dvc_hcm limit 1"
   ]
  },
  {
   "cell_type": "code",
   "execution_count": null,
   "id": "98e81b30-6b2c-42d8-89d5-f8e8d0df9cdc",
   "metadata": {},
   "outputs": [],
   "source": [
    "%%sql\n",
    "select distinct input_channel\n",
    "from bot_db.bot_dvc_hcm"
   ]
  }
 ],
 "metadata": {
  "kernelspec": {
   "display_name": "Python 3 (ipykernel)",
   "language": "python",
   "name": "python3"
  },
  "language_info": {
   "codemirror_mode": {
    "name": "ipython",
    "version": 3
   },
   "file_extension": ".py",
   "mimetype": "text/x-python",
   "name": "python",
   "nbconvert_exporter": "python",
   "pygments_lexer": "ipython3",
   "version": "3.9.18"
  }
 },
 "nbformat": 4,
 "nbformat_minor": 5
}
